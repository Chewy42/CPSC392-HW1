{
  "cells": [
    {
      "cell_type": "markdown",
      "metadata": {
        "id": "BCGNaycMAQXG"
      },
      "source": [
        "# Homework 1\n",
        "Homeworks are an individual assessment, you should not work in groups.\n",
        "\n",
        "You will be turning in:\n",
        "\n",
        "1. A [README.md](https://github.com/cmparlettpelleriti/CPSC392ParlettPelleriti/blob/master/Admin/READMEexample.md) with all the relevant information\n",
        "2. An .ipynb with just your code (show all code necessary for the analysis, but remove superfluous code)\n",
        "3. A PDF with your Report (rendered via Quarto)\n",
        "\n",
        "\n",
        "## Data\n",
        "We're going to be using some [clothing store data](https://raw.githubusercontent.com/cmparlettpelleriti/CPSC392ParlettPelleriti/master/Data/boutique.csv) to help the company predict how much their customers will spend with them per year.\n",
        "\n",
        "- `gender`: self-disclosed gender identity, `male`, `female`, `nonbinary` or `other`\n",
        "- `age`: current age of customer\n",
        "- `height_cm`: self-reported height converted to centimeters\n",
        "- `waist_size_cm`: self-reported waist size converted to centimeters\n",
        "- `inseam_cm`: self-reported inseam (measurement from crotch of pants to floor) converted to centimeters\n",
        "- `test_group`: whether or not the customer is in an experimental test group that gets special coupons once a month. `0` for no, `1` for yes.\n",
        "- `salary_self_report_in_k`: self-reported salary of customer, in thousands\n",
        "- `months_active`: number of months customer has been part of the clothing store's preferred rewards program\n",
        "- `num_purchases`: the number of purchases the customer has made (a purchase is a single transaction that could include multiple items)\n",
        "- `amount_spent_annual`: the average amount the customer has spent at the store per year\n",
        "\n",
        "\n",
        "## 1. Modeling\n",
        "- Drop Missing Values and Reset Indices if needed.\n",
        "- Using *Train-Test-Split Model Validation* with an 80/20 split and `sklearn` `Pipeline`s, build **two** models that predict the average amount the customer spends in a year using all the other variables.\n",
        "- Z-score continuous/interval variables, and One Hot Encode categorical variables (when needed) before fitting your models.\n",
        "- Try both a typical **Linear Regression** model and a **Polynomial Regression** model (using `PolynomialFeatures()`)\n",
        "- Once the model is trained, calculate the *MSE, MAE, MAPE, and $R^2$* for both the training and testing sets of both models.\n",
        "\n",
        "## 2. Graphs\n",
        "Choose 2 of the following questions to answer. Build at *least* one ggplot to answer each question (you can also do other calculations in addition), and write a detailed written answer based on the graph and calculations in your report (below). You do not NEED to use your model for these questions, they can be purely descriptive.\n",
        "\n",
        "- Does being in the experimental `test_group` actually increase the amount a customer spends at the store? Is this relationship different for the different genders?\n",
        "- Does making more money (salary) tend to increase the number of purchases someone makes? Does it increase the total amount spent?\n",
        "- In which year did the store's *customers* make the most money? Were the store's sales highest in those years?\n",
        "- People who are not your \"average\" size often find it difficult to buy clothes in traditional stores. Is there a relationship between inseam and amount spent in the store annually? Is there a relationship between height and amount spent in the store annually?\n",
        "- In this dataset, is there a relationship between salary and height? Is it different for the different genders?\n",
        "- The store is interested in whether their customer base has changed over time. Present the minimum, maximum, and average height, waist size, and inseam for each year.\n",
        "\n",
        "\n",
        "For all ggplots, make sure you make changes so that the data viz is effective, clear, and does not contain distracting elements, graphs will be graded both on correctness (did you plot the right thing) as well as on effectiveness (does this graph thoughtfully demonstrate the principles we learned in our data viz lectures).\n",
        "\n",
        "## 3. Report\n",
        "\n",
        "[TEMPLATE HERE](https://github.com/cmparlettpelleriti/CPSC392ParlettPelleriti/blob/master/Homework/HomeworkTemplate.qmd)\n",
        "\n",
        "Your Technical Report is a way to practice presenting and formatting your results like you would in industry. Make sure your report is clear, and explains things clearly. Using Quarto ([download](https://quarto.org/docs/download/), [getting started](https://quarto.org/docs/get-started/)) write a report that has the following sections:\n",
        "\n",
        "1. **Introduction**: description of the problem (e.g. what are you predicting? what variables do you have available? How might this model be useful if you are successful). You should end with a sentence or two about what the impact of these models could be.\n",
        "\n",
        "2. **Methods**: describe your models in detail (as if explaining them to the store's CEO), as well as any pre-processing you had to do to the data.\n",
        "\n",
        "3. **Results**: How well did your model perform according to the various metrics, was the model overfit (how can you tell)? What do those performance metrics tell you about the model? Did you need `PolynomialFeatures` (which includes both ploynomial features and interactions)?  How much do you trust the results of your model (in other words, would you be confident telling the store that they should use the model? Why or why not? Are there any caveats you'd give them?) Also answer the two questions you chose from part 2 above. Include the image, a caption as well as your written answer.\n",
        "\n",
        "4. **Discussion/Reflection**: A few sentences about what you learned from performing these analyses, and at least one suggestion for what you'd add or do differently if you were to perform this analysis again in the future."
      ]
    },
    {
      "cell_type": "code",
      "execution_count": null,
      "metadata": {},
      "outputs": [],
      "source": [
        "import warnings\n",
        "warnings.filterwarnings('ignore')\n",
        "\n",
        "# data imports\n",
        "import pandas as pd\n",
        "import numpy as np\n",
        "from plotnine import *\n",
        "\n",
        "# modeling imports\n",
        "from sklearn.linear_model import LinearRegression, LassoCV, RidgeCV # Linear Regression Model\n",
        "from sklearn.preprocessing import StandardScaler, PolynomialFeatures, SplineTransformer, OneHotEncoder #Z-score variables, Polynomial\n",
        "from sklearn.metrics import mean_squared_error, r2_score, mean_absolute_percentage_error, mean_absolute_error #model evaluation\n",
        "from sklearn.model_selection import train_test_split\n",
        "\n",
        "# pipeline imports\n",
        "from sklearn.pipeline import make_pipeline, Pipeline\n",
        "from sklearn.compose import make_column_transformer\n",
        "\n",
        "%matplotlib inline"
      ]
    },
    {
      "cell_type": "code",
      "execution_count": 4,
      "metadata": {},
      "outputs": [
        {
          "name": "stdout",
          "output_type": "stream",
          "text": [
            "MSE:  12567.073484252625\n",
            "MAE:  88.93358296326201\n",
            "MAPE:  0.12522964676277779\n",
            "R^2:  0.5280557224993601\n"
          ]
        }
      ],
      "source": [
        "df = pd.read_csv(\"https://raw.githubusercontent.com/cmparlettpelleriti/CPSC392ParlettPelleriti/master/Data/boutique.csv\")\n",
        "df.to_csv(\"boutique.csv\")\n",
        "\n",
        "df.dropna(inplace = True)\n",
        "df.reset_index(inplace = True, drop = True)\n",
        "\n",
        "df['year'] = df['year'].astype('category')\n",
        "df['gender'] = df['gender'].astype('category')\n",
        "\n",
        "predictors = ['year', 'gender', 'age', 'height_cm', 'waist_size_cm', 'inseam_cm', 'test_group', 'salary_self_report_in_k', 'months_active', 'num_purchases']\n",
        "contin = ['age', 'height_cm', 'waist_size_cm', 'inseam_cm', 'test_group', 'salary_self_report_in_k', 'months_active', 'num_purchases']\n",
        "X = df[predictors]\n",
        "y = df['amount_spent_annual']\n",
        "\n",
        "preprocess = make_column_transformer((StandardScaler(), contin),\n",
        "                            (OneHotEncoder(), ['year']),\n",
        "                            (OneHotEncoder(), ['gender']),\n",
        "                            remainder = \"passthrough\")\n",
        "\n",
        "X_train, X_test, y_train, y_test = train_test_split(X,y, test_size = 0.2)\n",
        "\n",
        "lr = LinearRegression()\n",
        "\n",
        "pipe = Pipeline([(\"pre\", preprocess),\n",
        "                (\"linearregression\", lr)])\n",
        "\n",
        "pipe.fit(X_train,y_train)\n",
        "\n",
        "# predict\n",
        "y_pred_train = pipe.predict(X_train)\n",
        "y_pred_test = pipe.predict(X_test)\n",
        "\n",
        "# assess\n",
        "print(\"MSE: \", mean_squared_error(y_test, y_pred_test))\n",
        "print(\"MAE: \", mean_absolute_error(y_test, y_pred_test))\n",
        "print(\"MAPE: \", mean_absolute_percentage_error(y_test, y_pred_test))\n",
        "print(\"R^2: \", r2_score(y_test, y_pred_test))"
      ]
    },
    {
      "cell_type": "code",
      "execution_count": 7,
      "metadata": {},
      "outputs": [
        {
          "name": "stdout",
          "output_type": "stream",
          "text": [
            "MSE :  3065.168428655554\n",
            "MAE :  44.20537017503129\n",
            "MAPE:  0.05917063112271748\n",
            "R2  :  0.8870995391841576\n"
          ]
        }
      ],
      "source": [
        "z = make_column_transformer((StandardScaler(), contin),\n",
        "                            (OneHotEncoder(), ['year']),\n",
        "                            (OneHotEncoder(), ['gender']),\n",
        "                            remainder = \"passthrough\")\n",
        "\n",
        "lr2 = LinearRegression()\n",
        "\n",
        "pipe2 = Pipeline([(\"zscore\", z),\n",
        "                (\"poly\", PolynomialFeatures(degree = 2)),\n",
        "                (\"linearregression\", lr2)])\n",
        "\n",
        "X_train, X_test, y_train, y_test = train_test_split(X,y, test_size = 0.2)  \n",
        "\n",
        "pipe2.fit(X,y)\n",
        "\n",
        "# predict\n",
        "y_pred = pipe2.predict(X)\n",
        "\n",
        "# assess\n",
        "print(\"MSE : \", mean_squared_error(y, y_pred))\n",
        "print(\"MAE : \", mean_absolute_error(y, y_pred))\n",
        "print(\"MAPE: \", mean_absolute_percentage_error(y, y_pred))\n",
        "print(\"R2  : \", r2_score(y, y_pred))"
      ]
    },
    {
      "cell_type": "code",
      "execution_count": null,
      "metadata": {},
      "outputs": [],
      "source": []
    }
  ],
  "metadata": {
    "colab": {
      "provenance": []
    },
    "kernelspec": {
      "display_name": "Python 3",
      "name": "python3"
    },
    "language_info": {
      "codemirror_mode": {
        "name": "ipython",
        "version": 3
      },
      "file_extension": ".py",
      "mimetype": "text/x-python",
      "name": "python",
      "nbconvert_exporter": "python",
      "pygments_lexer": "ipython3",
      "version": "3.11.5"
    },
    "orig_nbformat": 4
  },
  "nbformat": 4,
  "nbformat_minor": 0
}
